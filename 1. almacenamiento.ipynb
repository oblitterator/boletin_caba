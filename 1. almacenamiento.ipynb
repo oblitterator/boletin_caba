{
 "cells": [
  {
   "cell_type": "markdown",
   "metadata": {},
   "source": [
    "# Almacenamiento Licitaciones BO"
   ]
  },
  {
   "cell_type": "markdown",
   "metadata": {},
   "source": [
    "# 📦 Estructura del Proyecto"
   ]
  },
  {
   "cell_type": "markdown",
   "metadata": {},
   "source": [
    "```bash\n",
    "📁 TP_Final  # Carpeta raíz del proyecto\n",
    "│\n",
    "├── 📂 data  # Almacenamiento en Delta Lake\n",
    "│   ├── 📂 bronze  \n",
    "│   │   ├── 📂 boletines             # DT de boletines\n",
    "│   │   ├── 📂 normas                # DT de normas, particionado por poder que emitió\n",
    "│   │   ├── 📂 organismos_emisores  # DT con extracción FULL de organismos emisores\n",
    "│   │   ├── 📂 reparticiones        # DT con extracción FULL de reparticiones\n",
    "│   │   └── 📂 bac_anual            # DT con compras OCID y empresas\n",
    "│   └── 📂 silver\n",
    "│       ├── 📂 boletines\n",
    "│       ├── 📂 licitaciones #DT de licitaciones enriquecido\n",
    "│       ├── 📂 organismos_emisores #DT de organismos_emisores enriquecido\n",
    "│       └── 📂 empresas # DT con suppliers inscriptos del GCABA\n",
    "├── 📂 scripts  # Scripts de procesamiento\n",
    "│   ├── 📄 boletin_oficial_api.py       # 📌 Extracción y parseo desde la API\n",
    "│   ├── 📄 transformaciones.py          # 📌 Limpieza y normalización de boletines y normas\n",
    "│   ├── 📄 transformaciones_licitaciones.py  # 📌 Procesamiento, extracción y enriquecimiento de licitaciones\n",
    "│   ├── 📄 transformaciones_empresas.py      # 📌 Generación de padrón de empresas y enriquecimiento\n",
    "│   ├── 📄 storage.py                   # 📌 Utilidades para manejo de Delta Lake (upsert, overwrite)\n",
    "│   ├── 📄 utils_logs.py                   # 📌 Utilidades para manejo de errores en descarga de boletines y/o normas y logs\n",
    "├── 📂 logs  # logs de extracción y descarga\n",
    "│\n",
    "├── 📄 almacenamiento.ipynb  # 📌 Script principal para carga en Bronze (boletines, normas, organismos)\n",
    "├── 📄 procesamiento.ipynb   # 📌 Script principal de procesamiento y carga a Silver\n",
    "├── 📄 requirements.txt   # 📌 Librerías necesarias (deltalake, pandas, requests, etc.)\n",
    "├── 📄 README.md          # 📌 Documentación\n",
    "```\n",
    "\n",
    "\n"
   ]
  },
  {
   "cell_type": "markdown",
   "metadata": {},
   "source": [
    "# Importaciones y configuración"
   ]
  },
  {
   "cell_type": "code",
   "execution_count": 1,
   "metadata": {},
   "outputs": [],
   "source": [
    "import os\n",
    "import pandas as pd\n",
    "import re\n",
    "from datetime import datetime\n",
    "from deltalake import DeltaTable,  write_deltalake\n",
    "from scripts.boletin_oficial_api import BoletinOficialAPI\n",
    "from scripts.storage import upsert_data\n",
    "from scripts.transformaciones import limpiar_dataframe\n",
    "from datetime import datetime, timedelta\n",
    "from scripts.utils_logs import detectar_fechas_cubiertas_boletines, gestionar_logs_de_errores_boletines, guardar_log_errores_normas, gestionar_log_errores_normas"
   ]
  },
  {
   "cell_type": "markdown",
   "metadata": {},
   "source": [
    "# Extracción Incremental"
   ]
  },
  {
   "cell_type": "code",
   "execution_count": 2,
   "metadata": {},
   "outputs": [],
   "source": [
    "# Rutas a las tablas de Delta Lake\n",
    "BRONZE_BOLETINES = \"data/bronze/boletin_api/boletines\"\n",
    "BRONZE_NORMAS = \"data/bronze/boletin_api/normas\"\n",
    "BRONZE_LICITACIONES = \"data/bronze/boletin_api/licitaciones\""
   ]
  },
  {
   "cell_type": "code",
   "execution_count": 3,
   "metadata": {},
   "outputs": [
    {
     "name": "stdout",
     "output_type": "stream",
     "text": [
      "📌 Usando fecha forzada: 2025-03-10\n",
      "📥 Consultando API con fecha: 10-03-2025\n"
     ]
    },
    {
     "ename": "KeyboardInterrupt",
     "evalue": "",
     "output_type": "error",
     "traceback": [
      "\u001b[31m---------------------------------------------------------------------------\u001b[39m",
      "\u001b[31mKeyboardInterrupt\u001b[39m                         Traceback (most recent call last)",
      "\u001b[36mCell\u001b[39m\u001b[36m \u001b[39m\u001b[32mIn[3]\u001b[39m\u001b[32m, line 35\u001b[39m\n\u001b[32m     33\u001b[39m \u001b[38;5;66;03m# 📥 Descargar boletines nuevos\u001b[39;00m\n\u001b[32m     34\u001b[39m fecha_str = fecha_inicio_actualizada.strftime(\u001b[33m\"\u001b[39m\u001b[38;5;132;01m%d\u001b[39;00m\u001b[33m-\u001b[39m\u001b[33m%\u001b[39m\u001b[33mm-\u001b[39m\u001b[33m%\u001b[39m\u001b[33mY\u001b[39m\u001b[33m\"\u001b[39m)\n\u001b[32m---> \u001b[39m\u001b[32m35\u001b[39m boletines_nuevos = \u001b[43mBoletinOficialAPI\u001b[49m\u001b[43m.\u001b[49m\u001b[43mobtener_boletines_desde_fecha\u001b[49m\u001b[43m(\u001b[49m\n\u001b[32m     36\u001b[39m \u001b[43m    \u001b[49m\u001b[43mfecha_str\u001b[49m\u001b[43m,\u001b[49m\u001b[43m \u001b[49m\u001b[43mboletines_existentes\u001b[49m\u001b[43m,\u001b[49m\u001b[43m \u001b[49m\u001b[43mfechas_cubiertas\u001b[49m\n\u001b[32m     37\u001b[39m \u001b[43m)\u001b[49m\n",
      "\u001b[36mFile \u001b[39m\u001b[32mc:\\Users\\untal\\Documents\\curso_DataEngeneering\\tp_final\\scripts\\boletin_oficial_api.py:85\u001b[39m, in \u001b[36mBoletinOficialAPI.obtener_boletines_desde_fecha\u001b[39m\u001b[34m(fecha_inicio, boletines_existentes, fechas_cubiertas)\u001b[39m\n\u001b[32m     82\u001b[39m     \u001b[38;5;28;01mcontinue\u001b[39;00m\n\u001b[32m     84\u001b[39m \u001b[38;5;28mprint\u001b[39m(\u001b[33mf\u001b[39m\u001b[33m\"\u001b[39m\u001b[33m📥 Consultando API con fecha: \u001b[39m\u001b[38;5;132;01m{\u001b[39;00mfecha_str\u001b[38;5;132;01m}\u001b[39;00m\u001b[33m\"\u001b[39m)\n\u001b[32m---> \u001b[39m\u001b[32m85\u001b[39m result = \u001b[43mBoletinOficialAPI\u001b[49m\u001b[43m.\u001b[49m\u001b[43mobtener_boletin\u001b[49m\u001b[43m(\u001b[49m\u001b[43mfecha_str\u001b[49m\u001b[43m)\u001b[49m\n\u001b[32m     87\u001b[39m \u001b[38;5;28;01mif\u001b[39;00m result.get(\u001b[33m\"\u001b[39m\u001b[33mdata\u001b[39m\u001b[33m\"\u001b[39m) \u001b[38;5;129;01mand\u001b[39;00m \u001b[33m\"\u001b[39m\u001b[33mboletin\u001b[39m\u001b[33m\"\u001b[39m \u001b[38;5;129;01min\u001b[39;00m result[\u001b[33m\"\u001b[39m\u001b[33mdata\u001b[39m\u001b[33m\"\u001b[39m]:\n\u001b[32m     88\u001b[39m     data = result[\u001b[33m\"\u001b[39m\u001b[33mdata\u001b[39m\u001b[33m\"\u001b[39m]\n",
      "\u001b[36mFile \u001b[39m\u001b[32mc:\\Users\\untal\\Documents\\curso_DataEngeneering\\tp_final\\scripts\\boletin_oficial_api.py:24\u001b[39m, in \u001b[36mBoletinOficialAPI.obtener_boletin\u001b[39m\u001b[34m(fecha, retries, delay)\u001b[39m\n\u001b[32m     22\u001b[39m \u001b[38;5;28;01mfor\u001b[39;00m intento \u001b[38;5;129;01min\u001b[39;00m \u001b[38;5;28mrange\u001b[39m(retries + \u001b[32m1\u001b[39m):\n\u001b[32m     23\u001b[39m     \u001b[38;5;28;01mtry\u001b[39;00m:\n\u001b[32m---> \u001b[39m\u001b[32m24\u001b[39m         resp = \u001b[43mrequests\u001b[49m\u001b[43m.\u001b[49m\u001b[43mget\u001b[49m\u001b[43m(\u001b[49m\u001b[43murl\u001b[49m\u001b[43m)\u001b[49m\n\u001b[32m     25\u001b[39m         \u001b[38;5;28;01mif\u001b[39;00m resp.status_code == \u001b[32m404\u001b[39m:\n\u001b[32m     26\u001b[39m             \u001b[38;5;28;01mreturn\u001b[39;00m {\u001b[33m\"\u001b[39m\u001b[33merror\u001b[39m\u001b[33m\"\u001b[39m: \u001b[33m\"\u001b[39m\u001b[33m404 Not Found\u001b[39m\u001b[33m\"\u001b[39m, \u001b[33m\"\u001b[39m\u001b[33mfecha\u001b[39m\u001b[33m\"\u001b[39m: fecha}\n",
      "\u001b[36mFile \u001b[39m\u001b[32mc:\\Users\\untal\\Documents\\curso_DataEngeneering\\tp_final\\.venv\\Lib\\site-packages\\requests\\api.py:73\u001b[39m, in \u001b[36mget\u001b[39m\u001b[34m(url, params, **kwargs)\u001b[39m\n\u001b[32m     62\u001b[39m \u001b[38;5;28;01mdef\u001b[39;00m\u001b[38;5;250m \u001b[39m\u001b[34mget\u001b[39m(url, params=\u001b[38;5;28;01mNone\u001b[39;00m, **kwargs):\n\u001b[32m     63\u001b[39m \u001b[38;5;250m    \u001b[39m\u001b[33mr\u001b[39m\u001b[33;03m\"\"\"Sends a GET request.\u001b[39;00m\n\u001b[32m     64\u001b[39m \n\u001b[32m     65\u001b[39m \u001b[33;03m    :param url: URL for the new :class:`Request` object.\u001b[39;00m\n\u001b[32m   (...)\u001b[39m\u001b[32m     70\u001b[39m \u001b[33;03m    :rtype: requests.Response\u001b[39;00m\n\u001b[32m     71\u001b[39m \u001b[33;03m    \"\"\"\u001b[39;00m\n\u001b[32m---> \u001b[39m\u001b[32m73\u001b[39m     \u001b[38;5;28;01mreturn\u001b[39;00m \u001b[43mrequest\u001b[49m\u001b[43m(\u001b[49m\u001b[33;43m\"\u001b[39;49m\u001b[33;43mget\u001b[39;49m\u001b[33;43m\"\u001b[39;49m\u001b[43m,\u001b[49m\u001b[43m \u001b[49m\u001b[43murl\u001b[49m\u001b[43m,\u001b[49m\u001b[43m \u001b[49m\u001b[43mparams\u001b[49m\u001b[43m=\u001b[49m\u001b[43mparams\u001b[49m\u001b[43m,\u001b[49m\u001b[43m \u001b[49m\u001b[43m*\u001b[49m\u001b[43m*\u001b[49m\u001b[43mkwargs\u001b[49m\u001b[43m)\u001b[49m\n",
      "\u001b[36mFile \u001b[39m\u001b[32mc:\\Users\\untal\\Documents\\curso_DataEngeneering\\tp_final\\.venv\\Lib\\site-packages\\requests\\api.py:59\u001b[39m, in \u001b[36mrequest\u001b[39m\u001b[34m(method, url, **kwargs)\u001b[39m\n\u001b[32m     55\u001b[39m \u001b[38;5;66;03m# By using the 'with' statement we are sure the session is closed, thus we\u001b[39;00m\n\u001b[32m     56\u001b[39m \u001b[38;5;66;03m# avoid leaving sockets open which can trigger a ResourceWarning in some\u001b[39;00m\n\u001b[32m     57\u001b[39m \u001b[38;5;66;03m# cases, and look like a memory leak in others.\u001b[39;00m\n\u001b[32m     58\u001b[39m \u001b[38;5;28;01mwith\u001b[39;00m sessions.Session() \u001b[38;5;28;01mas\u001b[39;00m session:\n\u001b[32m---> \u001b[39m\u001b[32m59\u001b[39m     \u001b[38;5;28;01mreturn\u001b[39;00m \u001b[43msession\u001b[49m\u001b[43m.\u001b[49m\u001b[43mrequest\u001b[49m\u001b[43m(\u001b[49m\u001b[43mmethod\u001b[49m\u001b[43m=\u001b[49m\u001b[43mmethod\u001b[49m\u001b[43m,\u001b[49m\u001b[43m \u001b[49m\u001b[43murl\u001b[49m\u001b[43m=\u001b[49m\u001b[43murl\u001b[49m\u001b[43m,\u001b[49m\u001b[43m \u001b[49m\u001b[43m*\u001b[49m\u001b[43m*\u001b[49m\u001b[43mkwargs\u001b[49m\u001b[43m)\u001b[49m\n",
      "\u001b[36mFile \u001b[39m\u001b[32mc:\\Users\\untal\\Documents\\curso_DataEngeneering\\tp_final\\.venv\\Lib\\site-packages\\requests\\sessions.py:589\u001b[39m, in \u001b[36mSession.request\u001b[39m\u001b[34m(self, method, url, params, data, headers, cookies, files, auth, timeout, allow_redirects, proxies, hooks, stream, verify, cert, json)\u001b[39m\n\u001b[32m    584\u001b[39m send_kwargs = {\n\u001b[32m    585\u001b[39m     \u001b[33m\"\u001b[39m\u001b[33mtimeout\u001b[39m\u001b[33m\"\u001b[39m: timeout,\n\u001b[32m    586\u001b[39m     \u001b[33m\"\u001b[39m\u001b[33mallow_redirects\u001b[39m\u001b[33m\"\u001b[39m: allow_redirects,\n\u001b[32m    587\u001b[39m }\n\u001b[32m    588\u001b[39m send_kwargs.update(settings)\n\u001b[32m--> \u001b[39m\u001b[32m589\u001b[39m resp = \u001b[38;5;28;43mself\u001b[39;49m\u001b[43m.\u001b[49m\u001b[43msend\u001b[49m\u001b[43m(\u001b[49m\u001b[43mprep\u001b[49m\u001b[43m,\u001b[49m\u001b[43m \u001b[49m\u001b[43m*\u001b[49m\u001b[43m*\u001b[49m\u001b[43msend_kwargs\u001b[49m\u001b[43m)\u001b[49m\n\u001b[32m    591\u001b[39m \u001b[38;5;28;01mreturn\u001b[39;00m resp\n",
      "\u001b[36mFile \u001b[39m\u001b[32mc:\\Users\\untal\\Documents\\curso_DataEngeneering\\tp_final\\.venv\\Lib\\site-packages\\requests\\sessions.py:703\u001b[39m, in \u001b[36mSession.send\u001b[39m\u001b[34m(self, request, **kwargs)\u001b[39m\n\u001b[32m    700\u001b[39m start = preferred_clock()\n\u001b[32m    702\u001b[39m \u001b[38;5;66;03m# Send the request\u001b[39;00m\n\u001b[32m--> \u001b[39m\u001b[32m703\u001b[39m r = \u001b[43madapter\u001b[49m\u001b[43m.\u001b[49m\u001b[43msend\u001b[49m\u001b[43m(\u001b[49m\u001b[43mrequest\u001b[49m\u001b[43m,\u001b[49m\u001b[43m \u001b[49m\u001b[43m*\u001b[49m\u001b[43m*\u001b[49m\u001b[43mkwargs\u001b[49m\u001b[43m)\u001b[49m\n\u001b[32m    705\u001b[39m \u001b[38;5;66;03m# Total elapsed time of the request (approximately)\u001b[39;00m\n\u001b[32m    706\u001b[39m elapsed = preferred_clock() - start\n",
      "\u001b[36mFile \u001b[39m\u001b[32mc:\\Users\\untal\\Documents\\curso_DataEngeneering\\tp_final\\.venv\\Lib\\site-packages\\requests\\adapters.py:667\u001b[39m, in \u001b[36mHTTPAdapter.send\u001b[39m\u001b[34m(self, request, stream, timeout, verify, cert, proxies)\u001b[39m\n\u001b[32m    664\u001b[39m     timeout = TimeoutSauce(connect=timeout, read=timeout)\n\u001b[32m    666\u001b[39m \u001b[38;5;28;01mtry\u001b[39;00m:\n\u001b[32m--> \u001b[39m\u001b[32m667\u001b[39m     resp = \u001b[43mconn\u001b[49m\u001b[43m.\u001b[49m\u001b[43murlopen\u001b[49m\u001b[43m(\u001b[49m\n\u001b[32m    668\u001b[39m \u001b[43m        \u001b[49m\u001b[43mmethod\u001b[49m\u001b[43m=\u001b[49m\u001b[43mrequest\u001b[49m\u001b[43m.\u001b[49m\u001b[43mmethod\u001b[49m\u001b[43m,\u001b[49m\n\u001b[32m    669\u001b[39m \u001b[43m        \u001b[49m\u001b[43murl\u001b[49m\u001b[43m=\u001b[49m\u001b[43murl\u001b[49m\u001b[43m,\u001b[49m\n\u001b[32m    670\u001b[39m \u001b[43m        \u001b[49m\u001b[43mbody\u001b[49m\u001b[43m=\u001b[49m\u001b[43mrequest\u001b[49m\u001b[43m.\u001b[49m\u001b[43mbody\u001b[49m\u001b[43m,\u001b[49m\n\u001b[32m    671\u001b[39m \u001b[43m        \u001b[49m\u001b[43mheaders\u001b[49m\u001b[43m=\u001b[49m\u001b[43mrequest\u001b[49m\u001b[43m.\u001b[49m\u001b[43mheaders\u001b[49m\u001b[43m,\u001b[49m\n\u001b[32m    672\u001b[39m \u001b[43m        \u001b[49m\u001b[43mredirect\u001b[49m\u001b[43m=\u001b[49m\u001b[38;5;28;43;01mFalse\u001b[39;49;00m\u001b[43m,\u001b[49m\n\u001b[32m    673\u001b[39m \u001b[43m        \u001b[49m\u001b[43massert_same_host\u001b[49m\u001b[43m=\u001b[49m\u001b[38;5;28;43;01mFalse\u001b[39;49;00m\u001b[43m,\u001b[49m\n\u001b[32m    674\u001b[39m \u001b[43m        \u001b[49m\u001b[43mpreload_content\u001b[49m\u001b[43m=\u001b[49m\u001b[38;5;28;43;01mFalse\u001b[39;49;00m\u001b[43m,\u001b[49m\n\u001b[32m    675\u001b[39m \u001b[43m        \u001b[49m\u001b[43mdecode_content\u001b[49m\u001b[43m=\u001b[49m\u001b[38;5;28;43;01mFalse\u001b[39;49;00m\u001b[43m,\u001b[49m\n\u001b[32m    676\u001b[39m \u001b[43m        \u001b[49m\u001b[43mretries\u001b[49m\u001b[43m=\u001b[49m\u001b[38;5;28;43mself\u001b[39;49m\u001b[43m.\u001b[49m\u001b[43mmax_retries\u001b[49m\u001b[43m,\u001b[49m\n\u001b[32m    677\u001b[39m \u001b[43m        \u001b[49m\u001b[43mtimeout\u001b[49m\u001b[43m=\u001b[49m\u001b[43mtimeout\u001b[49m\u001b[43m,\u001b[49m\n\u001b[32m    678\u001b[39m \u001b[43m        \u001b[49m\u001b[43mchunked\u001b[49m\u001b[43m=\u001b[49m\u001b[43mchunked\u001b[49m\u001b[43m,\u001b[49m\n\u001b[32m    679\u001b[39m \u001b[43m    \u001b[49m\u001b[43m)\u001b[49m\n\u001b[32m    681\u001b[39m \u001b[38;5;28;01mexcept\u001b[39;00m (ProtocolError, \u001b[38;5;167;01mOSError\u001b[39;00m) \u001b[38;5;28;01mas\u001b[39;00m err:\n\u001b[32m    682\u001b[39m     \u001b[38;5;28;01mraise\u001b[39;00m \u001b[38;5;167;01mConnectionError\u001b[39;00m(err, request=request)\n",
      "\u001b[36mFile \u001b[39m\u001b[32mc:\\Users\\untal\\Documents\\curso_DataEngeneering\\tp_final\\.venv\\Lib\\site-packages\\urllib3\\connectionpool.py:787\u001b[39m, in \u001b[36mHTTPConnectionPool.urlopen\u001b[39m\u001b[34m(self, method, url, body, headers, retries, redirect, assert_same_host, timeout, pool_timeout, release_conn, chunked, body_pos, preload_content, decode_content, **response_kw)\u001b[39m\n\u001b[32m    784\u001b[39m response_conn = conn \u001b[38;5;28;01mif\u001b[39;00m \u001b[38;5;129;01mnot\u001b[39;00m release_conn \u001b[38;5;28;01melse\u001b[39;00m \u001b[38;5;28;01mNone\u001b[39;00m\n\u001b[32m    786\u001b[39m \u001b[38;5;66;03m# Make the request on the HTTPConnection object\u001b[39;00m\n\u001b[32m--> \u001b[39m\u001b[32m787\u001b[39m response = \u001b[38;5;28;43mself\u001b[39;49m\u001b[43m.\u001b[49m\u001b[43m_make_request\u001b[49m\u001b[43m(\u001b[49m\n\u001b[32m    788\u001b[39m \u001b[43m    \u001b[49m\u001b[43mconn\u001b[49m\u001b[43m,\u001b[49m\n\u001b[32m    789\u001b[39m \u001b[43m    \u001b[49m\u001b[43mmethod\u001b[49m\u001b[43m,\u001b[49m\n\u001b[32m    790\u001b[39m \u001b[43m    \u001b[49m\u001b[43murl\u001b[49m\u001b[43m,\u001b[49m\n\u001b[32m    791\u001b[39m \u001b[43m    \u001b[49m\u001b[43mtimeout\u001b[49m\u001b[43m=\u001b[49m\u001b[43mtimeout_obj\u001b[49m\u001b[43m,\u001b[49m\n\u001b[32m    792\u001b[39m \u001b[43m    \u001b[49m\u001b[43mbody\u001b[49m\u001b[43m=\u001b[49m\u001b[43mbody\u001b[49m\u001b[43m,\u001b[49m\n\u001b[32m    793\u001b[39m \u001b[43m    \u001b[49m\u001b[43mheaders\u001b[49m\u001b[43m=\u001b[49m\u001b[43mheaders\u001b[49m\u001b[43m,\u001b[49m\n\u001b[32m    794\u001b[39m \u001b[43m    \u001b[49m\u001b[43mchunked\u001b[49m\u001b[43m=\u001b[49m\u001b[43mchunked\u001b[49m\u001b[43m,\u001b[49m\n\u001b[32m    795\u001b[39m \u001b[43m    \u001b[49m\u001b[43mretries\u001b[49m\u001b[43m=\u001b[49m\u001b[43mretries\u001b[49m\u001b[43m,\u001b[49m\n\u001b[32m    796\u001b[39m \u001b[43m    \u001b[49m\u001b[43mresponse_conn\u001b[49m\u001b[43m=\u001b[49m\u001b[43mresponse_conn\u001b[49m\u001b[43m,\u001b[49m\n\u001b[32m    797\u001b[39m \u001b[43m    \u001b[49m\u001b[43mpreload_content\u001b[49m\u001b[43m=\u001b[49m\u001b[43mpreload_content\u001b[49m\u001b[43m,\u001b[49m\n\u001b[32m    798\u001b[39m \u001b[43m    \u001b[49m\u001b[43mdecode_content\u001b[49m\u001b[43m=\u001b[49m\u001b[43mdecode_content\u001b[49m\u001b[43m,\u001b[49m\n\u001b[32m    799\u001b[39m \u001b[43m    \u001b[49m\u001b[43m*\u001b[49m\u001b[43m*\u001b[49m\u001b[43mresponse_kw\u001b[49m\u001b[43m,\u001b[49m\n\u001b[32m    800\u001b[39m \u001b[43m\u001b[49m\u001b[43m)\u001b[49m\n\u001b[32m    802\u001b[39m \u001b[38;5;66;03m# Everything went great!\u001b[39;00m\n\u001b[32m    803\u001b[39m clean_exit = \u001b[38;5;28;01mTrue\u001b[39;00m\n",
      "\u001b[36mFile \u001b[39m\u001b[32mc:\\Users\\untal\\Documents\\curso_DataEngeneering\\tp_final\\.venv\\Lib\\site-packages\\urllib3\\connectionpool.py:534\u001b[39m, in \u001b[36mHTTPConnectionPool._make_request\u001b[39m\u001b[34m(self, conn, method, url, body, headers, retries, timeout, chunked, response_conn, preload_content, decode_content, enforce_content_length)\u001b[39m\n\u001b[32m    532\u001b[39m \u001b[38;5;66;03m# Receive the response from the server\u001b[39;00m\n\u001b[32m    533\u001b[39m \u001b[38;5;28;01mtry\u001b[39;00m:\n\u001b[32m--> \u001b[39m\u001b[32m534\u001b[39m     response = \u001b[43mconn\u001b[49m\u001b[43m.\u001b[49m\u001b[43mgetresponse\u001b[49m\u001b[43m(\u001b[49m\u001b[43m)\u001b[49m\n\u001b[32m    535\u001b[39m \u001b[38;5;28;01mexcept\u001b[39;00m (BaseSSLError, \u001b[38;5;167;01mOSError\u001b[39;00m) \u001b[38;5;28;01mas\u001b[39;00m e:\n\u001b[32m    536\u001b[39m     \u001b[38;5;28mself\u001b[39m._raise_timeout(err=e, url=url, timeout_value=read_timeout)\n",
      "\u001b[36mFile \u001b[39m\u001b[32mc:\\Users\\untal\\Documents\\curso_DataEngeneering\\tp_final\\.venv\\Lib\\site-packages\\urllib3\\connection.py:516\u001b[39m, in \u001b[36mHTTPConnection.getresponse\u001b[39m\u001b[34m(self)\u001b[39m\n\u001b[32m    513\u001b[39m _shutdown = \u001b[38;5;28mgetattr\u001b[39m(\u001b[38;5;28mself\u001b[39m.sock, \u001b[33m\"\u001b[39m\u001b[33mshutdown\u001b[39m\u001b[33m\"\u001b[39m, \u001b[38;5;28;01mNone\u001b[39;00m)\n\u001b[32m    515\u001b[39m \u001b[38;5;66;03m# Get the response from http.client.HTTPConnection\u001b[39;00m\n\u001b[32m--> \u001b[39m\u001b[32m516\u001b[39m httplib_response = \u001b[38;5;28;43msuper\u001b[39;49m\u001b[43m(\u001b[49m\u001b[43m)\u001b[49m\u001b[43m.\u001b[49m\u001b[43mgetresponse\u001b[49m\u001b[43m(\u001b[49m\u001b[43m)\u001b[49m\n\u001b[32m    518\u001b[39m \u001b[38;5;28;01mtry\u001b[39;00m:\n\u001b[32m    519\u001b[39m     assert_header_parsing(httplib_response.msg)\n",
      "\u001b[36mFile \u001b[39m\u001b[32mC:\\ProgramData\\anaconda3\\Lib\\http\\client.py:1378\u001b[39m, in \u001b[36mHTTPConnection.getresponse\u001b[39m\u001b[34m(self)\u001b[39m\n\u001b[32m   1376\u001b[39m \u001b[38;5;28;01mtry\u001b[39;00m:\n\u001b[32m   1377\u001b[39m     \u001b[38;5;28;01mtry\u001b[39;00m:\n\u001b[32m-> \u001b[39m\u001b[32m1378\u001b[39m         \u001b[43mresponse\u001b[49m\u001b[43m.\u001b[49m\u001b[43mbegin\u001b[49m\u001b[43m(\u001b[49m\u001b[43m)\u001b[49m\n\u001b[32m   1379\u001b[39m     \u001b[38;5;28;01mexcept\u001b[39;00m \u001b[38;5;167;01mConnectionError\u001b[39;00m:\n\u001b[32m   1380\u001b[39m         \u001b[38;5;28mself\u001b[39m.close()\n",
      "\u001b[36mFile \u001b[39m\u001b[32mC:\\ProgramData\\anaconda3\\Lib\\http\\client.py:318\u001b[39m, in \u001b[36mHTTPResponse.begin\u001b[39m\u001b[34m(self)\u001b[39m\n\u001b[32m    316\u001b[39m \u001b[38;5;66;03m# read until we get a non-100 response\u001b[39;00m\n\u001b[32m    317\u001b[39m \u001b[38;5;28;01mwhile\u001b[39;00m \u001b[38;5;28;01mTrue\u001b[39;00m:\n\u001b[32m--> \u001b[39m\u001b[32m318\u001b[39m     version, status, reason = \u001b[38;5;28;43mself\u001b[39;49m\u001b[43m.\u001b[49m\u001b[43m_read_status\u001b[49m\u001b[43m(\u001b[49m\u001b[43m)\u001b[49m\n\u001b[32m    319\u001b[39m     \u001b[38;5;28;01mif\u001b[39;00m status != CONTINUE:\n\u001b[32m    320\u001b[39m         \u001b[38;5;28;01mbreak\u001b[39;00m\n",
      "\u001b[36mFile \u001b[39m\u001b[32mC:\\ProgramData\\anaconda3\\Lib\\http\\client.py:279\u001b[39m, in \u001b[36mHTTPResponse._read_status\u001b[39m\u001b[34m(self)\u001b[39m\n\u001b[32m    278\u001b[39m \u001b[38;5;28;01mdef\u001b[39;00m\u001b[38;5;250m \u001b[39m\u001b[34m_read_status\u001b[39m(\u001b[38;5;28mself\u001b[39m):\n\u001b[32m--> \u001b[39m\u001b[32m279\u001b[39m     line = \u001b[38;5;28mstr\u001b[39m(\u001b[38;5;28;43mself\u001b[39;49m\u001b[43m.\u001b[49m\u001b[43mfp\u001b[49m\u001b[43m.\u001b[49m\u001b[43mreadline\u001b[49m\u001b[43m(\u001b[49m\u001b[43m_MAXLINE\u001b[49m\u001b[43m \u001b[49m\u001b[43m+\u001b[49m\u001b[43m \u001b[49m\u001b[32;43m1\u001b[39;49m\u001b[43m)\u001b[49m, \u001b[33m\"\u001b[39m\u001b[33miso-8859-1\u001b[39m\u001b[33m\"\u001b[39m)\n\u001b[32m    280\u001b[39m     \u001b[38;5;28;01mif\u001b[39;00m \u001b[38;5;28mlen\u001b[39m(line) > _MAXLINE:\n\u001b[32m    281\u001b[39m         \u001b[38;5;28;01mraise\u001b[39;00m LineTooLong(\u001b[33m\"\u001b[39m\u001b[33mstatus line\u001b[39m\u001b[33m\"\u001b[39m)\n",
      "\u001b[36mFile \u001b[39m\u001b[32mC:\\ProgramData\\anaconda3\\Lib\\socket.py:706\u001b[39m, in \u001b[36mSocketIO.readinto\u001b[39m\u001b[34m(self, b)\u001b[39m\n\u001b[32m    704\u001b[39m \u001b[38;5;28;01mwhile\u001b[39;00m \u001b[38;5;28;01mTrue\u001b[39;00m:\n\u001b[32m    705\u001b[39m     \u001b[38;5;28;01mtry\u001b[39;00m:\n\u001b[32m--> \u001b[39m\u001b[32m706\u001b[39m         \u001b[38;5;28;01mreturn\u001b[39;00m \u001b[38;5;28;43mself\u001b[39;49m\u001b[43m.\u001b[49m\u001b[43m_sock\u001b[49m\u001b[43m.\u001b[49m\u001b[43mrecv_into\u001b[49m\u001b[43m(\u001b[49m\u001b[43mb\u001b[49m\u001b[43m)\u001b[49m\n\u001b[32m    707\u001b[39m     \u001b[38;5;28;01mexcept\u001b[39;00m timeout:\n\u001b[32m    708\u001b[39m         \u001b[38;5;28mself\u001b[39m._timeout_occurred = \u001b[38;5;28;01mTrue\u001b[39;00m\n",
      "\u001b[36mFile \u001b[39m\u001b[32mC:\\ProgramData\\anaconda3\\Lib\\ssl.py:1311\u001b[39m, in \u001b[36mSSLSocket.recv_into\u001b[39m\u001b[34m(self, buffer, nbytes, flags)\u001b[39m\n\u001b[32m   1307\u001b[39m     \u001b[38;5;28;01mif\u001b[39;00m flags != \u001b[32m0\u001b[39m:\n\u001b[32m   1308\u001b[39m         \u001b[38;5;28;01mraise\u001b[39;00m \u001b[38;5;167;01mValueError\u001b[39;00m(\n\u001b[32m   1309\u001b[39m           \u001b[33m\"\u001b[39m\u001b[33mnon-zero flags not allowed in calls to recv_into() on \u001b[39m\u001b[38;5;132;01m%s\u001b[39;00m\u001b[33m\"\u001b[39m %\n\u001b[32m   1310\u001b[39m           \u001b[38;5;28mself\u001b[39m.\u001b[34m__class__\u001b[39m)\n\u001b[32m-> \u001b[39m\u001b[32m1311\u001b[39m     \u001b[38;5;28;01mreturn\u001b[39;00m \u001b[38;5;28;43mself\u001b[39;49m\u001b[43m.\u001b[49m\u001b[43mread\u001b[49m\u001b[43m(\u001b[49m\u001b[43mnbytes\u001b[49m\u001b[43m,\u001b[49m\u001b[43m \u001b[49m\u001b[43mbuffer\u001b[49m\u001b[43m)\u001b[49m\n\u001b[32m   1312\u001b[39m \u001b[38;5;28;01melse\u001b[39;00m:\n\u001b[32m   1313\u001b[39m     \u001b[38;5;28;01mreturn\u001b[39;00m \u001b[38;5;28msuper\u001b[39m().recv_into(buffer, nbytes, flags)\n",
      "\u001b[36mFile \u001b[39m\u001b[32mC:\\ProgramData\\anaconda3\\Lib\\ssl.py:1167\u001b[39m, in \u001b[36mSSLSocket.read\u001b[39m\u001b[34m(self, len, buffer)\u001b[39m\n\u001b[32m   1165\u001b[39m \u001b[38;5;28;01mtry\u001b[39;00m:\n\u001b[32m   1166\u001b[39m     \u001b[38;5;28;01mif\u001b[39;00m buffer \u001b[38;5;129;01mis\u001b[39;00m \u001b[38;5;129;01mnot\u001b[39;00m \u001b[38;5;28;01mNone\u001b[39;00m:\n\u001b[32m-> \u001b[39m\u001b[32m1167\u001b[39m         \u001b[38;5;28;01mreturn\u001b[39;00m \u001b[38;5;28;43mself\u001b[39;49m\u001b[43m.\u001b[49m\u001b[43m_sslobj\u001b[49m\u001b[43m.\u001b[49m\u001b[43mread\u001b[49m\u001b[43m(\u001b[49m\u001b[38;5;28;43mlen\u001b[39;49m\u001b[43m,\u001b[49m\u001b[43m \u001b[49m\u001b[43mbuffer\u001b[49m\u001b[43m)\u001b[49m\n\u001b[32m   1168\u001b[39m     \u001b[38;5;28;01melse\u001b[39;00m:\n\u001b[32m   1169\u001b[39m         \u001b[38;5;28;01mreturn\u001b[39;00m \u001b[38;5;28mself\u001b[39m._sslobj.read(\u001b[38;5;28mlen\u001b[39m)\n",
      "\u001b[31mKeyboardInterrupt\u001b[39m: "
     ]
    }
   ],
   "source": [
    "FECHA_INICIO = \"10-03-2025\"\n",
    "FORZAR_INICIO_MANUAL = True  # ← ⚠️ Activar para ignorar lo último que haya en Bronze y forzar inicio desde fecha\n",
    "\n",
    "# 🔎 Buscar boletines ya guardados\n",
    "try:\n",
    "    dt = DeltaTable(BRONZE_BOLETINES)\n",
    "    df_bronze = dt.to_pandas()\n",
    "\n",
    "    # 🔢 Números de boletines ya guardados\n",
    "    boletines_existentes = set(df_bronze['numero'].dropna().astype(int).unique())\n",
    "\n",
    "    # 📅 Fechas ya cubiertas por boletines\n",
    "    fechas_cubiertas = detectar_fechas_cubiertas_boletines(df_bronze)\n",
    "\n",
    "    # 🧹 Limpiar errores pasados ya resueltos\n",
    "    gestionar_logs_de_errores_boletines(fechas_cubiertas)\n",
    "\n",
    "    # 🕓 Determinar fecha de inicio\n",
    "    if FORZAR_INICIO_MANUAL:\n",
    "        fecha_inicio_actualizada = datetime.strptime(FECHA_INICIO, \"%d-%m-%Y\")\n",
    "        print(f\"📌 Usando fecha forzada: {fecha_inicio_actualizada.date()}\")\n",
    "    else:\n",
    "        ultima_fecha = pd.to_datetime(df_bronze['fecha_publicacion'], errors='coerce').max()\n",
    "        fecha_inicio_actualizada = ultima_fecha + timedelta(days=1)\n",
    "        print(f\"📌 Último boletín registrado en Bronze: {ultima_fecha.date()}\")\n",
    "\n",
    "except Exception:\n",
    "    print(\"⚠️ No se encontró tabla o no se pudo leer.\")\n",
    "    boletines_existentes = set()\n",
    "    fechas_cubiertas = set()\n",
    "    fecha_inicio_actualizada = datetime.strptime(FECHA_INICIO, \"%d-%m-%Y\")\n",
    "\n",
    "# 📥 Descargar boletines nuevos\n",
    "fecha_str = fecha_inicio_actualizada.strftime(\"%d-%m-%Y\")\n",
    "boletines_nuevos = BoletinOficialAPI.obtener_boletines_desde_fecha(\n",
    "    fecha_str, boletines_existentes, fechas_cubiertas\n",
    ")\n"
   ]
  },
  {
   "cell_type": "markdown",
   "metadata": {},
   "source": [
    "# PArseo de boletines y normas"
   ]
  },
  {
   "cell_type": "code",
   "execution_count": 4,
   "metadata": {},
   "outputs": [],
   "source": [
    "if not boletines_nuevos:\n",
    "    print(\"No se encontraron boletines nuevos para procesar.\")\n",
    "else:\n",
    "    # 📌 Se convierten los nodos de boletines y normas a DataFrames\n",
    "    df_boletines = BoletinOficialAPI.parsear_boletines(boletines_nuevos)\n",
    "    df_normas = BoletinOficialAPI.parsear_normas(boletines_nuevos)\n"
   ]
  },
  {
   "cell_type": "code",
   "execution_count": 5,
   "metadata": {},
   "outputs": [],
   "source": [
    "# 🔄 Transformaciones antes de guardar\n",
    "df_boletines = limpiar_dataframe(df_boletines, key_cols=[\"numero\"])\n",
    "df_normas = limpiar_dataframe(df_normas, key_cols=[\"id_norma\"])"
   ]
  },
  {
   "cell_type": "code",
   "execution_count": 12,
   "metadata": {},
   "outputs": [
    {
     "data": {
      "text/plain": [
       "subsecciones\n",
       "Poder Ejecutivo         528\n",
       "Licitaciones            100\n",
       "Comunicados y Avisos     63\n",
       "Edictos Oficiales        29\n",
       "Organos de Control       12\n",
       "Poder Judicial           10\n",
       "Fuera de Nivel            6\n",
       "Trimestrales              4\n",
       "Edictos Particulares      2\n",
       "Name: count, dtype: int64"
      ]
     },
     "execution_count": 12,
     "metadata": {},
     "output_type": "execute_result"
    }
   ],
   "source": [
    "df_normas['subsecciones'].value_counts()"
   ]
  },
  {
   "cell_type": "markdown",
   "metadata": {},
   "source": [
    "## Descarga de licitaciones en formato pdf y extracción de texto"
   ]
  },
  {
   "cell_type": "code",
   "execution_count": 15,
   "metadata": {},
   "outputs": [
    {
     "name": "stdout",
     "output_type": "stream",
     "text": [
      "📑 Procesando PDF 1/100: id_norma 884700\n",
      "✅ PDF ya descargado: data\\bronze\\boletin_api\\licitaciones_pdf\\884700.pdf\n",
      "📑 Procesando PDF 2/100: id_norma 885047\n",
      "✅ PDF ya descargado: data\\bronze\\boletin_api\\licitaciones_pdf\\885047.pdf\n",
      "📑 Procesando PDF 3/100: id_norma 885065\n",
      "✅ PDF ya descargado: data\\bronze\\boletin_api\\licitaciones_pdf\\885065.pdf\n",
      "📑 Procesando PDF 4/100: id_norma 884909\n",
      "✅ PDF ya descargado: data\\bronze\\boletin_api\\licitaciones_pdf\\884909.pdf\n",
      "📑 Procesando PDF 5/100: id_norma 885104\n",
      "✅ PDF ya descargado: data\\bronze\\boletin_api\\licitaciones_pdf\\885104.pdf\n",
      "📑 Procesando PDF 6/100: id_norma 884758\n",
      "✅ PDF ya descargado: data\\bronze\\boletin_api\\licitaciones_pdf\\884758.pdf\n",
      "📑 Procesando PDF 7/100: id_norma 884755\n",
      "✅ PDF ya descargado: data\\bronze\\boletin_api\\licitaciones_pdf\\884755.pdf\n",
      "📑 Procesando PDF 8/100: id_norma 885069\n",
      "✅ PDF ya descargado: data\\bronze\\boletin_api\\licitaciones_pdf\\885069.pdf\n",
      "📑 Procesando PDF 9/100: id_norma 885063\n",
      "✅ PDF ya descargado: data\\bronze\\boletin_api\\licitaciones_pdf\\885063.pdf\n",
      "📑 Procesando PDF 10/100: id_norma 885064\n",
      "✅ PDF ya descargado: data\\bronze\\boletin_api\\licitaciones_pdf\\885064.pdf\n",
      "📑 Procesando PDF 11/100: id_norma 884762\n",
      "✅ PDF ya descargado: data\\bronze\\boletin_api\\licitaciones_pdf\\884762.pdf\n",
      "📑 Procesando PDF 12/100: id_norma 884851\n",
      "✅ PDF ya descargado: data\\bronze\\boletin_api\\licitaciones_pdf\\884851.pdf\n",
      "📑 Procesando PDF 13/100: id_norma 884931\n",
      "✅ PDF ya descargado: data\\bronze\\boletin_api\\licitaciones_pdf\\884931.pdf\n",
      "📑 Procesando PDF 14/100: id_norma 885055\n",
      "✅ PDF ya descargado: data\\bronze\\boletin_api\\licitaciones_pdf\\885055.pdf\n",
      "📑 Procesando PDF 15/100: id_norma 884618\n",
      "✅ PDF ya descargado: data\\bronze\\boletin_api\\licitaciones_pdf\\884618.pdf\n",
      "📑 Procesando PDF 16/100: id_norma 885098\n",
      "✅ PDF ya descargado: data\\bronze\\boletin_api\\licitaciones_pdf\\885098.pdf\n",
      "📑 Procesando PDF 17/100: id_norma 885050\n",
      "✅ PDF ya descargado: data\\bronze\\boletin_api\\licitaciones_pdf\\885050.pdf\n",
      "📑 Procesando PDF 18/100: id_norma 885054\n",
      "✅ PDF ya descargado: data\\bronze\\boletin_api\\licitaciones_pdf\\885054.pdf\n",
      "📑 Procesando PDF 19/100: id_norma 884650\n",
      "✅ PDF ya descargado: data\\bronze\\boletin_api\\licitaciones_pdf\\884650.pdf\n",
      "📑 Procesando PDF 20/100: id_norma 885015\n",
      "✅ PDF ya descargado: data\\bronze\\boletin_api\\licitaciones_pdf\\885015.pdf\n",
      "📑 Procesando PDF 21/100: id_norma 884810\n",
      "✅ PDF ya descargado: data\\bronze\\boletin_api\\licitaciones_pdf\\884810.pdf\n",
      "📑 Procesando PDF 22/100: id_norma 884811\n",
      "✅ PDF ya descargado: data\\bronze\\boletin_api\\licitaciones_pdf\\884811.pdf\n",
      "📑 Procesando PDF 23/100: id_norma 884774\n",
      "✅ PDF ya descargado: data\\bronze\\boletin_api\\licitaciones_pdf\\884774.pdf\n",
      "📑 Procesando PDF 24/100: id_norma 884961\n",
      "✅ PDF ya descargado: data\\bronze\\boletin_api\\licitaciones_pdf\\884961.pdf\n",
      "📑 Procesando PDF 25/100: id_norma 884115\n",
      "✅ PDF ya descargado: data\\bronze\\boletin_api\\licitaciones_pdf\\884115.pdf\n",
      "📑 Procesando PDF 26/100: id_norma 884664\n",
      "✅ PDF ya descargado: data\\bronze\\boletin_api\\licitaciones_pdf\\884664.pdf\n",
      "📑 Procesando PDF 27/100: id_norma 885119\n",
      "✅ PDF ya descargado: data\\bronze\\boletin_api\\licitaciones_pdf\\885119.pdf\n",
      "📑 Procesando PDF 28/100: id_norma 885144\n",
      "✅ PDF ya descargado: data\\bronze\\boletin_api\\licitaciones_pdf\\885144.pdf\n",
      "📑 Procesando PDF 29/100: id_norma 884633\n",
      "✅ PDF ya descargado: data\\bronze\\boletin_api\\licitaciones_pdf\\884633.pdf\n",
      "📑 Procesando PDF 30/100: id_norma 884592\n",
      "✅ PDF ya descargado: data\\bronze\\boletin_api\\licitaciones_pdf\\884592.pdf\n",
      "📑 Procesando PDF 31/100: id_norma 883274\n",
      "✅ PDF ya descargado: data\\bronze\\boletin_api\\licitaciones_pdf\\883274.pdf\n",
      "📑 Procesando PDF 32/100: id_norma 881923\n",
      "✅ PDF ya descargado: data\\bronze\\boletin_api\\licitaciones_pdf\\881923.pdf\n",
      "📑 Procesando PDF 33/100: id_norma 882923\n",
      "✅ PDF ya descargado: data\\bronze\\boletin_api\\licitaciones_pdf\\882923.pdf\n",
      "📑 Procesando PDF 34/100: id_norma 884959\n",
      "✅ PDF ya descargado: data\\bronze\\boletin_api\\licitaciones_pdf\\884959.pdf\n",
      "📑 Procesando PDF 35/100: id_norma 883756\n",
      "✅ PDF ya descargado: data\\bronze\\boletin_api\\licitaciones_pdf\\883756.pdf\n",
      "📑 Procesando PDF 36/100: id_norma 884820\n",
      "✅ PDF ya descargado: data\\bronze\\boletin_api\\licitaciones_pdf\\884820.pdf\n",
      "📑 Procesando PDF 37/100: id_norma 885123\n",
      "✅ PDF ya descargado: data\\bronze\\boletin_api\\licitaciones_pdf\\885123.pdf\n",
      "📑 Procesando PDF 38/100: id_norma 884821\n",
      "✅ PDF ya descargado: data\\bronze\\boletin_api\\licitaciones_pdf\\884821.pdf\n",
      "📑 Procesando PDF 39/100: id_norma 885051\n",
      "✅ PDF ya descargado: data\\bronze\\boletin_api\\licitaciones_pdf\\885051.pdf\n",
      "📑 Procesando PDF 40/100: id_norma 884809\n",
      "✅ PDF ya descargado: data\\bronze\\boletin_api\\licitaciones_pdf\\884809.pdf\n",
      "📑 Procesando PDF 41/100: id_norma 883074\n",
      "✅ PDF ya descargado: data\\bronze\\boletin_api\\licitaciones_pdf\\883074.pdf\n",
      "📑 Procesando PDF 42/100: id_norma 884546\n",
      "✅ PDF ya descargado: data\\bronze\\boletin_api\\licitaciones_pdf\\884546.pdf\n",
      "📑 Procesando PDF 43/100: id_norma 884858\n",
      "✅ PDF ya descargado: data\\bronze\\boletin_api\\licitaciones_pdf\\884858.pdf\n",
      "📑 Procesando PDF 44/100: id_norma 884905\n",
      "✅ PDF ya descargado: data\\bronze\\boletin_api\\licitaciones_pdf\\884905.pdf\n",
      "📑 Procesando PDF 45/100: id_norma 884981\n",
      "✅ PDF ya descargado: data\\bronze\\boletin_api\\licitaciones_pdf\\884981.pdf\n",
      "📑 Procesando PDF 46/100: id_norma 884993\n",
      "✅ PDF ya descargado: data\\bronze\\boletin_api\\licitaciones_pdf\\884993.pdf\n",
      "📑 Procesando PDF 47/100: id_norma 884533\n",
      "✅ PDF ya descargado: data\\bronze\\boletin_api\\licitaciones_pdf\\884533.pdf\n",
      "📑 Procesando PDF 48/100: id_norma 884920\n",
      "✅ PDF ya descargado: data\\bronze\\boletin_api\\licitaciones_pdf\\884920.pdf\n",
      "📑 Procesando PDF 49/100: id_norma 885084\n",
      "✅ PDF ya descargado: data\\bronze\\boletin_api\\licitaciones_pdf\\885084.pdf\n",
      "📑 Procesando PDF 50/100: id_norma 885005\n",
      "✅ PDF ya descargado: data\\bronze\\boletin_api\\licitaciones_pdf\\885005.pdf\n",
      "📑 Procesando PDF 51/100: id_norma 885091\n",
      "✅ PDF ya descargado: data\\bronze\\boletin_api\\licitaciones_pdf\\885091.pdf\n",
      "📑 Procesando PDF 52/100: id_norma 884611\n",
      "✅ PDF ya descargado: data\\bronze\\boletin_api\\licitaciones_pdf\\884611.pdf\n",
      "📑 Procesando PDF 53/100: id_norma 884662\n",
      "✅ PDF ya descargado: data\\bronze\\boletin_api\\licitaciones_pdf\\884662.pdf\n",
      "📑 Procesando PDF 54/100: id_norma 884593\n",
      "✅ PDF ya descargado: data\\bronze\\boletin_api\\licitaciones_pdf\\884593.pdf\n",
      "📑 Procesando PDF 55/100: id_norma 884683\n",
      "✅ PDF ya descargado: data\\bronze\\boletin_api\\licitaciones_pdf\\884683.pdf\n",
      "📑 Procesando PDF 56/100: id_norma 884737\n",
      "✅ PDF ya descargado: data\\bronze\\boletin_api\\licitaciones_pdf\\884737.pdf\n",
      "📑 Procesando PDF 57/100: id_norma 884531\n",
      "✅ PDF ya descargado: data\\bronze\\boletin_api\\licitaciones_pdf\\884531.pdf\n",
      "📑 Procesando PDF 58/100: id_norma 885112\n",
      "✅ PDF ya descargado: data\\bronze\\boletin_api\\licitaciones_pdf\\885112.pdf\n",
      "📑 Procesando PDF 59/100: id_norma 884888\n",
      "✅ PDF ya descargado: data\\bronze\\boletin_api\\licitaciones_pdf\\884888.pdf\n",
      "📑 Procesando PDF 60/100: id_norma 884279\n",
      "✅ PDF ya descargado: data\\bronze\\boletin_api\\licitaciones_pdf\\884279.pdf\n",
      "📑 Procesando PDF 61/100: id_norma 884202\n",
      "✅ PDF ya descargado: data\\bronze\\boletin_api\\licitaciones_pdf\\884202.pdf\n",
      "📑 Procesando PDF 62/100: id_norma 882738\n",
      "✅ PDF ya descargado: data\\bronze\\boletin_api\\licitaciones_pdf\\882738.pdf\n",
      "📑 Procesando PDF 63/100: id_norma 884649\n",
      "✅ PDF ya descargado: data\\bronze\\boletin_api\\licitaciones_pdf\\884649.pdf\n",
      "📑 Procesando PDF 64/100: id_norma 884085\n",
      "✅ PDF ya descargado: data\\bronze\\boletin_api\\licitaciones_pdf\\884085.pdf\n",
      "📑 Procesando PDF 65/100: id_norma 884608\n",
      "✅ PDF ya descargado: data\\bronze\\boletin_api\\licitaciones_pdf\\884608.pdf\n",
      "📑 Procesando PDF 66/100: id_norma 884631\n",
      "✅ PDF ya descargado: data\\bronze\\boletin_api\\licitaciones_pdf\\884631.pdf\n",
      "📑 Procesando PDF 67/100: id_norma 884645\n",
      "✅ PDF ya descargado: data\\bronze\\boletin_api\\licitaciones_pdf\\884645.pdf\n",
      "📑 Procesando PDF 68/100: id_norma 884655\n",
      "✅ PDF ya descargado: data\\bronze\\boletin_api\\licitaciones_pdf\\884655.pdf\n",
      "📑 Procesando PDF 69/100: id_norma 884565\n",
      "✅ PDF ya descargado: data\\bronze\\boletin_api\\licitaciones_pdf\\884565.pdf\n",
      "📑 Procesando PDF 70/100: id_norma 884775\n",
      "✅ PDF ya descargado: data\\bronze\\boletin_api\\licitaciones_pdf\\884775.pdf\n",
      "📑 Procesando PDF 71/100: id_norma 884684\n",
      "✅ PDF ya descargado: data\\bronze\\boletin_api\\licitaciones_pdf\\884684.pdf\n",
      "📑 Procesando PDF 72/100: id_norma 884563\n",
      "✅ PDF ya descargado: data\\bronze\\boletin_api\\licitaciones_pdf\\884563.pdf\n",
      "📑 Procesando PDF 73/100: id_norma 884678\n",
      "✅ PDF ya descargado: data\\bronze\\boletin_api\\licitaciones_pdf\\884678.pdf\n",
      "📑 Procesando PDF 74/100: id_norma 884236\n",
      "✅ PDF ya descargado: data\\bronze\\boletin_api\\licitaciones_pdf\\884236.pdf\n",
      "📑 Procesando PDF 75/100: id_norma 884223\n",
      "✅ PDF ya descargado: data\\bronze\\boletin_api\\licitaciones_pdf\\884223.pdf\n",
      "📑 Procesando PDF 76/100: id_norma 884668\n",
      "✅ PDF ya descargado: data\\bronze\\boletin_api\\licitaciones_pdf\\884668.pdf\n",
      "📑 Procesando PDF 77/100: id_norma 884690\n",
      "✅ PDF ya descargado: data\\bronze\\boletin_api\\licitaciones_pdf\\884690.pdf\n",
      "📑 Procesando PDF 78/100: id_norma 884622\n",
      "✅ PDF ya descargado: data\\bronze\\boletin_api\\licitaciones_pdf\\884622.pdf\n",
      "📑 Procesando PDF 79/100: id_norma 884781\n",
      "✅ PDF ya descargado: data\\bronze\\boletin_api\\licitaciones_pdf\\884781.pdf\n",
      "📑 Procesando PDF 80/100: id_norma 883747\n",
      "✅ PDF ya descargado: data\\bronze\\boletin_api\\licitaciones_pdf\\883747.pdf\n",
      "📑 Procesando PDF 81/100: id_norma 884642\n",
      "✅ PDF ya descargado: data\\bronze\\boletin_api\\licitaciones_pdf\\884642.pdf\n",
      "📑 Procesando PDF 82/100: id_norma 884783\n",
      "✅ PDF ya descargado: data\\bronze\\boletin_api\\licitaciones_pdf\\884783.pdf\n",
      "📑 Procesando PDF 83/100: id_norma 884658\n",
      "✅ PDF ya descargado: data\\bronze\\boletin_api\\licitaciones_pdf\\884658.pdf\n",
      "📑 Procesando PDF 84/100: id_norma 884568\n",
      "✅ PDF ya descargado: data\\bronze\\boletin_api\\licitaciones_pdf\\884568.pdf\n",
      "📑 Procesando PDF 85/100: id_norma 884146\n",
      "✅ PDF ya descargado: data\\bronze\\boletin_api\\licitaciones_pdf\\884146.pdf\n",
      "📑 Procesando PDF 86/100: id_norma 884800\n",
      "✅ PDF ya descargado: data\\bronze\\boletin_api\\licitaciones_pdf\\884800.pdf\n",
      "📑 Procesando PDF 87/100: id_norma 884697\n",
      "✅ PDF ya descargado: data\\bronze\\boletin_api\\licitaciones_pdf\\884697.pdf\n",
      "📑 Procesando PDF 88/100: id_norma 884424\n",
      "✅ PDF ya descargado: data\\bronze\\boletin_api\\licitaciones_pdf\\884424.pdf\n",
      "📑 Procesando PDF 89/100: id_norma 884204\n",
      "✅ PDF ya descargado: data\\bronze\\boletin_api\\licitaciones_pdf\\884204.pdf\n",
      "📑 Procesando PDF 90/100: id_norma 884058\n",
      "✅ PDF ya descargado: data\\bronze\\boletin_api\\licitaciones_pdf\\884058.pdf\n",
      "📑 Procesando PDF 91/100: id_norma 884679\n",
      "✅ PDF ya descargado: data\\bronze\\boletin_api\\licitaciones_pdf\\884679.pdf\n",
      "📑 Procesando PDF 92/100: id_norma 884555\n",
      "✅ PDF ya descargado: data\\bronze\\boletin_api\\licitaciones_pdf\\884555.pdf\n",
      "📑 Procesando PDF 93/100: id_norma 884689\n",
      "📥 PDF descargado: data\\bronze\\boletin_api\\licitaciones_pdf\\884689.pdf\n",
      "📑 Procesando PDF 94/100: id_norma 884721\n",
      "📥 PDF descargado: data\\bronze\\boletin_api\\licitaciones_pdf\\884721.pdf\n",
      "📑 Procesando PDF 95/100: id_norma 884517\n",
      "✅ PDF ya descargado: data\\bronze\\boletin_api\\licitaciones_pdf\\884517.pdf\n",
      "📑 Procesando PDF 96/100: id_norma 884709\n",
      "📥 PDF descargado: data\\bronze\\boletin_api\\licitaciones_pdf\\884709.pdf\n",
      "📑 Procesando PDF 97/100: id_norma 884221\n",
      "✅ PDF ya descargado: data\\bronze\\boletin_api\\licitaciones_pdf\\884221.pdf\n",
      "📑 Procesando PDF 98/100: id_norma 884217\n",
      "✅ PDF ya descargado: data\\bronze\\boletin_api\\licitaciones_pdf\\884217.pdf\n",
      "📑 Procesando PDF 99/100: id_norma 884208\n",
      "📥 PDF descargado: data\\bronze\\boletin_api\\licitaciones_pdf\\884208.pdf\n",
      "📑 Procesando PDF 100/100: id_norma 884516\n",
      "📥 PDF descargado: data\\bronze\\boletin_api\\licitaciones_pdf\\884516.pdf\n",
      "✅ Se detectaron normas previamente fallidas que ya fueron procesadas:\n",
      "✔️ id_norma 884689 (No se encontró el archivo para id_norma 884689)\n",
      "✔️ id_norma 884721 (No se encontró el archivo para id_norma 884721)\n",
      "✔️ id_norma 884709 (No se encontró el archivo para id_norma 884709)\n",
      "✔️ id_norma 884208 (No se encontró el archivo para id_norma 884208)\n",
      "✔️ id_norma 884516 (No se encontró el archivo para id_norma 884516)\n",
      "📝 Log actualizado: logs/log_errores_normas_corregidos.csv\n",
      "📌 Errores aún pendientes guardados en: logs/log_errores_normas.csv\n",
      "ℹ️ No hay errores nuevos de normas para guardar.\n"
     ]
    }
   ],
   "source": [
    "# Procesar licitaciones\n",
    "df_licitaciones = BoletinOficialAPI.procesar_licitaciones(df_normas)\n",
    "\n",
    "# 1️⃣ Verificar si errores viejos ya se resolvieron (antes de guardar los nuevos)\n",
    "gestionar_log_errores_normas(df_licitaciones)\n",
    "\n",
    "# 2️⃣ Guardar errores de esta corrida\n",
    "guardar_log_errores_normas(BoletinOficialAPI.errores_pdf_normas)\n",
    "\n",
    "# 3️⃣ Limpiar DataFrame\n",
    "df_licitaciones = limpiar_dataframe(df_licitaciones, key_cols=[\"id_norma\"])\n"
   ]
  },
  {
   "cell_type": "markdown",
   "metadata": {},
   "source": [
    "# Carga de datos"
   ]
  },
  {
   "cell_type": "code",
   "execution_count": 17,
   "metadata": {},
   "outputs": [
    {
     "name": "stdout",
     "output_type": "stream",
     "text": [
      "🔼 Guardando boletines...\n",
      "📊 Tipo de 'numero' después del saneo: Int64\n",
      "🔢 Registros con clave no nula: 2\n",
      "📂 No existe DeltaTable en data/bronze/boletin_api/boletines o no se pudo hacer MERGE. Creando nueva tabla...\n",
      "✅ Datos insertados en data/bronze/boletin_api/boletines. Filas nuevas: 2\n",
      "✅ Boletines guardados en Delta Lake.\n",
      "🔼 Guardando normas...\n",
      "📊 Tipo de 'id_norma' después del saneo: Int64\n",
      "🔢 Registros con clave no nula: 754\n",
      "📂 No existe DeltaTable en data/bronze/boletin_api/normas o no se pudo hacer MERGE. Creando nueva tabla...\n",
      "✅ Datos insertados en data/bronze/boletin_api/normas. Filas nuevas: 754\n",
      "✅ Normas guardadas en Delta Lake.\n",
      "🔼 Guardando licitaciones...\n",
      "📊 Tipo de 'id_norma' después del saneo: Int64\n",
      "🔢 Registros con clave no nula: 100\n",
      "📂 No existe DeltaTable en data/bronze/boletin_api/licitaciones o no se pudo hacer MERGE. Creando nueva tabla...\n",
      "✅ Datos insertados en data/bronze/boletin_api/licitaciones. Filas nuevas: 100\n",
      "✅ Licitaciones guardadas en Delta Lake.\n"
     ]
    }
   ],
   "source": [
    "# 📌 Upsert en bronze mediante funcion definida en storage.py usando Delta Lake\n",
    "\n",
    "print(\"🔼 Guardando boletines...\")\n",
    "upsert_data(df_boletines, \n",
    "            BRONZE_BOLETINES,\n",
    "            key_col=\"numero\",\n",
    "            partition_col=\"anio\")\n",
    "print(\"✅ Boletines guardados en Delta Lake.\")\n",
    "\n",
    "\n",
    "print(\"🔼 Guardando normas...\")\n",
    "upsert_data(df_normas,\n",
    "            BRONZE_NORMAS,\n",
    "            key_col=\"id_norma\",\n",
    "            partition_col=\"tipo_norma\")\n",
    "print(\"✅ Normas guardadas en Delta Lake.\")\n",
    "\n",
    "print(\"🔼 Guardando licitaciones...\")\n",
    "upsert_data(df_licitaciones,\n",
    "            BRONZE_LICITACIONES,\n",
    "            key_col=\"id_norma\",\n",
    "            partition_col=\"fecha_publicacion\")\n",
    "print(\"✅ Licitaciones guardadas en Delta Lake.\")"
   ]
  },
  {
   "cell_type": "code",
   "execution_count": 18,
   "metadata": {},
   "outputs": [
    {
     "name": "stdout",
     "output_type": "stream",
     "text": [
      "📊 DeltaTable DESPUÉS de la inserción:\n",
      "   numero fecha_publicacion\n",
      "0    7100        2025-04-15\n",
      "1    7099        2025-04-14\n",
      "✅ Proceso completado.\n"
     ]
    }
   ],
   "source": [
    "\n",
    "# 📊 Mostrar DeltaTable después de la inserción\n",
    "dt = DeltaTable(BRONZE_BOLETINES)\n",
    "df_actualizado = dt.to_pandas(columns=[\"numero\", \"fecha_publicacion\"])\n",
    "print(\"📊 DeltaTable DESPUÉS de la inserción:\")\n",
    "print(df_actualizado)\n",
    "\n",
    "print(\"✅ Proceso completado.\")"
   ]
  },
  {
   "cell_type": "markdown",
   "metadata": {},
   "source": [
    "# Extracción full (Organismo, Reparticiones y BAC Compras)"
   ]
  },
  {
   "cell_type": "code",
   "execution_count": null,
   "metadata": {},
   "outputs": [],
   "source": [
    "# Rutas de almacenamiento en BRONZE\n",
    "FULL_ORGANISMOS = \"data/bronze/boletin_api/organismos_emisores\"\n",
    "FULL_REPARTICIONES = \"data/bronze/boletin_api/reparticiones\""
   ]
  },
  {
   "cell_type": "markdown",
   "metadata": {},
   "source": [
    "## Extracción full de datos maestros de reparticiones y organismos emisores"
   ]
  },
  {
   "cell_type": "markdown",
   "metadata": {},
   "source": [
    "Observación: no se identifica una clave directa para realizar el cruce entre la tabla de reparticiones y la de normas. Se evaluará en una proxima iteración la posibilidad de realizar un mapeo utilizando coincidencias de cadena de texto"
   ]
  },
  {
   "cell_type": "code",
   "execution_count": null,
   "metadata": {},
   "outputs": [
    {
     "name": "stdout",
     "output_type": "stream",
     "text": [
      "📥 Extrayendo organismos emisores...\n",
      "📥 Extrayendo reparticiones...\n"
     ]
    }
   ],
   "source": [
    "\n",
    "print(\"📥 Extrayendo organismos emisores...\")\n",
    "data_organismos = BoletinOficialAPI.obtener_organismos_emisores()\n",
    "df_organismos = BoletinOficialAPI.parsear_organismos_emisores(data_organismos)\n",
    "\n",
    "print(\"📥 Extrayendo reparticiones...\")\n",
    "data_reparticiones = BoletinOficialAPI.obtener_reparticiones()\n",
    "df_reparticiones = BoletinOficialAPI.parsear_reparticiones(data_reparticiones)\n",
    "\n",
    "# Agregar columna de fecha de extracción\n",
    "fecha_actual = datetime.today().strftime(\"%Y-%m-%d\")\n",
    "df_organismos[\"fecha_extraccion\"] = fecha_actual\n",
    "df_reparticiones[\"fecha_extraccion\"] = fecha_actual\n"
   ]
  },
  {
   "cell_type": "code",
   "execution_count": null,
   "metadata": {},
   "outputs": [
    {
     "name": "stdout",
     "output_type": "stream",
     "text": [
      "Organismos emisores extraídos: (1259, 3)\n",
      "Reparticiones extraídas: (196, 4)\n"
     ]
    }
   ],
   "source": [
    "\n",
    "print(\"Organismos emisores extraídos:\", df_organismos.shape)\n",
    "print(\"Reparticiones extraídas:\", df_reparticiones.shape)"
   ]
  },
  {
   "cell_type": "markdown",
   "metadata": {},
   "source": [
    "## Guardado en Delta Lake con sobreescritura"
   ]
  },
  {
   "cell_type": "code",
   "execution_count": null,
   "metadata": {},
   "outputs": [
    {
     "name": "stdout",
     "output_type": "stream",
     "text": [
      "💾 Guardando datos en Delta Lake...\n",
      "✅ Extracción FULL completada y guardada en Delta Lake.\n"
     ]
    }
   ],
   "source": [
    "\n",
    "print(\"💾 Guardando datos en Delta Lake...\")\n",
    "\n",
    "write_deltalake(\n",
    "    FULL_ORGANISMOS,\n",
    "      df_organismos,\n",
    "        mode=\"overwrite\"\n",
    ")\n",
    "write_deltalake(\n",
    "    FULL_REPARTICIONES,\n",
    "      df_reparticiones,\n",
    "        mode=\"overwrite\"\n",
    ")\n",
    "\n",
    "print(\"✅ Extracción FULL completada y guardada en Delta Lake.\")\n"
   ]
  },
  {
   "cell_type": "markdown",
   "metadata": {},
   "source": [
    "# Extracción y almacenamiento de Dataset de BAC Compras (empresas licitantes)"
   ]
  },
  {
   "cell_type": "markdown",
   "metadata": {},
   "source": [
    "Se guarda el dataset de datos abiertos sobre licitaciones en formato OCID para luego extraer las empresas en la etapa silver"
   ]
  },
  {
   "cell_type": "code",
   "execution_count": null,
   "metadata": {},
   "outputs": [
    {
     "name": "stderr",
     "output_type": "stream",
     "text": [
      "C:\\Users\\untal\\AppData\\Local\\Temp\\ipykernel_130364\\730753928.py:1: DtypeWarning: Columns (23,109,110,111) have mixed types. Specify dtype option on import or set low_memory=False.\n",
      "  df_ocid_raw = pd.read_csv('https://cdn.buenosaires.gob.ar/datosabiertos/datasets/ministerio-de-economia-y-finanzas/buenos-aires-compras/bac_anual.csv')\n"
     ]
    }
   ],
   "source": [
    "df_ocid_raw = pd.read_csv('https://cdn.buenosaires.gob.ar/datosabiertos/datasets/ministerio-de-economia-y-finanzas/buenos-aires-compras/bac_anual.csv')"
   ]
  },
  {
   "cell_type": "code",
   "execution_count": null,
   "metadata": {},
   "outputs": [
    {
     "name": "stdout",
     "output_type": "stream",
     "text": [
      "✅ Archivo OCDS completo guardado en Delta Lake (bronze/bac_anual/full_ocid)\n"
     ]
    }
   ],
   "source": [
    "# 2. Definir ruta para Bronze\n",
    "BRONZE_OCID_FULL = \"data/bronze/bac_anual/full_bac_compras_anual\"\n",
    "\n",
    "# 3. Guardar en Delta Lake (modo OVERWRITE para carga limpia)\n",
    "write_deltalake(\n",
    "    BRONZE_OCID_FULL,\n",
    "    df_ocid_raw,\n",
    "    mode=\"overwrite\"\n",
    ")\n",
    "\n",
    "print(\"✅ Archivo OCDS completo guardado en Delta Lake (bronze/bac_anual/full_ocid)\")"
   ]
  }
 ],
 "metadata": {
  "kernelspec": {
   "display_name": ".venv",
   "language": "python",
   "name": "python3"
  },
  "language_info": {
   "codemirror_mode": {
    "name": "ipython",
    "version": 3
   },
   "file_extension": ".py",
   "mimetype": "text/x-python",
   "name": "python",
   "nbconvert_exporter": "python",
   "pygments_lexer": "ipython3",
   "version": "3.11.5"
  }
 },
 "nbformat": 4,
 "nbformat_minor": 2
}
